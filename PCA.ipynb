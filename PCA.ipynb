{
  "cells": [
    {
      "cell_type": "markdown",
      "metadata": {
        "id": "T8yzDC2rNKlC"
      },
      "source": [
        "# Programming Assignment 2 Part 2 - Principal Component Analysis"
      ]
    },
    {
      "cell_type": "markdown",
      "metadata": {
        "id": "BpHD7zJXNKlD"
      },
      "source": [
        "In this programming assignment, you will implement a decision tree model and PCA algorithm.\n",
        "\n",
        "**For Even Roll Number Students:**\n",
        "\n",
        "* In this part, you have to implement the PCA algorithm to perform dimensionality reduction on the breast cancer dataset.\n",
        "* Dataset: ````breast-cancer.csv```` with ``diagnosis`` as the target variable.\n",
        "\n",
        "**For Odd Roll Number Students:**\n",
        "\n",
        "* In this part, you have to implement the PCA algorithm to perform dimensionality reduction on the wine quality dataset.\n",
        "* Dataset: ````wine-quality.csv```` with ``Customer_Segment`` as the target variable.\n",
        "\n",
        "The assignment zip file (ML_CS60050_A2.zip) contains the respective datasets which will be used in this assignment.\n",
        "\n",
        "You have to write your code in this jupyter notebook. You have to write your code only between ### START CODE HERE ### and ### END CODE HERE ### comments."
      ]
    },
    {
      "cell_type": "markdown",
      "metadata": {
        "id": "wgbR11QKNKlE"
      },
      "source": [
        "### Assignment Submission Instructions\n",
        "\n",
        "Please submit your assignment as a ZIP file that contains a folder named in the following format: `RollNo_ML_A2`. Inside this folder, include two Jupyter notebooks and a Report with the following names:\n",
        "\n",
        "1. `RollNo_A2_Part1.ipynb`\n",
        "2. `RollNo_A2_Part2.ipynb`\n",
        "3. `RollNo_report.pdf`\n",
        "\n",
        "\n",
        "Instructions for the Report:\n",
        "* Summarize results from noiseless and noisy datasets.\n",
        "* Compare performance and note the impact of noise.\n",
        "* Conclude with key findings and implications.\n",
        "\n",
        "Make sure that you replace `RollNo` with your actual roll number in both the folder name and the notebook filenames.\n",
        "\n",
        "For example, if your roll number is `23CS60R11`, the folder should be named `23CS60R11_ML_A2`, and the three files should be named `23CS60R11_A2_Part1.ipynb`, `23CS60R11_A2_Part2.ipynb` and `RollNo_report.pdf`.\n",
        "\n",
        "Submit this ZIP file as your assignment submission."
      ]
    },
    {
      "cell_type": "code",
      "execution_count": 29,
      "metadata": {
        "execution": {
          "iopub.execute_input": "2024-08-29T09:25:06.676623Z",
          "iopub.status.busy": "2024-08-29T09:25:06.675572Z",
          "iopub.status.idle": "2024-08-29T09:25:09.528544Z",
          "shell.execute_reply": "2024-08-29T09:25:09.527379Z",
          "shell.execute_reply.started": "2024-08-29T09:25:06.676576Z"
        },
        "trusted": true,
        "id": "z_VLscZiNKlE"
      },
      "outputs": [],
      "source": [
        "import seaborn as sns\n",
        "import numpy as np\n",
        "import pandas as pd\n",
        "import matplotlib.pyplot as plt\n",
        "import plotly.express as px\n",
        "import plotly.graph_objects as go\n",
        "from plotly.subplots import make_subplots"
      ]
    },
    {
      "cell_type": "code",
      "source": [
        "from google.colab import drive\n",
        "drive.mount('/content/drive')"
      ],
      "metadata": {
        "id": "78gvH_R6dhZ0",
        "outputId": "04a72db1-be1b-40cf-c993-facf04ea51fc",
        "colab": {
          "base_uri": "https://localhost:8080/"
        }
      },
      "execution_count": 30,
      "outputs": [
        {
          "output_type": "stream",
          "name": "stdout",
          "text": [
            "Drive already mounted at /content/drive; to attempt to forcibly remount, call drive.mount(\"/content/drive\", force_remount=True).\n"
          ]
        }
      ]
    },
    {
      "cell_type": "markdown",
      "metadata": {
        "id": "TFQMoTPANKlF"
      },
      "source": [
        "### 2.1. Reading and Pre-processing the data"
      ]
    },
    {
      "cell_type": "markdown",
      "metadata": {
        "id": "jJ5JhD9dNKlF"
      },
      "source": [
        "In the following function ```load_data```, you have to read the data from the file and store the data into a pandas dataframe. Then you have to create two numpy arrays $X$ and $y$ from the dataframe:\n",
        "\n",
        "+ $X$: Input data of the shape (number of samples, number of input features)\n",
        "+ $y$: Target variable of the shape (number of samples,)\n"
      ]
    },
    {
      "cell_type": "code",
      "execution_count": 31,
      "metadata": {
        "id": "js9RFbr2NKlF",
        "colab": {
          "base_uri": "https://localhost:8080/"
        },
        "outputId": "657139f7-14dd-4cec-9d71-4478bf253883"
      },
      "outputs": [
        {
          "output_type": "stream",
          "name": "stdout",
          "text": [
            "Shape of X: (178, 13)  Shape of y: (178,)\n"
          ]
        }
      ],
      "source": [
        "## CODE REQUIRED ##\n",
        "\n",
        "def load_data(filepath):\n",
        "    \"\"\"\n",
        "    This function loads the data into a pandas dataframe and coverts it into X and y numpy arrays\n",
        "\n",
        "    Args:\n",
        "        filepath: File path as a string\n",
        "    Returns:\n",
        "        X: Input data of the shape (# of samples, # of input features)\n",
        "        y: Target variable of the shape (# of sample,)\n",
        "    \"\"\"\n",
        "\n",
        "    ### START CODE HERE ###\n",
        "    df = pd.read_csv(filepath)\n",
        "    X = df.iloc[:, :-1].values\n",
        "    y = df.iloc[:, -1].values\n",
        "    ### END CODE HERE ###\n",
        "\n",
        "    return X,y\n",
        "\n",
        "filepath = None\n",
        "### START CODE HERE ###\n",
        "filepath = \"/content/drive/MyDrive/Colab Notebooks/wine-quality.csv\"\n",
        "### END CODE HERE ###\n",
        "X, y = load_data(filepath)\n",
        "\n",
        "print(\"Shape of X:\",X.shape, \" Shape of y:\",y.shape)"
      ]
    },
    {
      "cell_type": "markdown",
      "metadata": {
        "id": "uGMdEidGNKlF"
      },
      "source": [
        "### 2.2. Model Implementation"
      ]
    },
    {
      "cell_type": "markdown",
      "metadata": {
        "id": "uGB5R3n7NKlG"
      },
      "source": [
        "### The main steps of the PCA algorithm are as follows:\n",
        "\n",
        "1. Compute the mean of the input data along each feature dimension.\n",
        "2. Subtract the mean from the input data to center it around zero.\n",
        "3. Compute the covariance matrix of the centered input data.\n",
        "4. Compute the eigenvectors and eigenvalues of the covariance matrix.\n",
        "5. Keep only the first `n_components` eigenvectors as the principal components.\n",
        "6. Compute the explained variance ratio for each principal component.\n",
        "7. Transform the input data by projecting it onto the principal components.\n",
        "\n",
        "#### The mean of the input data along each feature dimension is computed as:\n",
        "\n",
        "$$\n",
        "\\boldsymbol{\\mu} = \\frac{1}{n}\\sum_{i=1}^{n}\\mathbf{x}_i\n",
        "$$\n",
        "\n",
        "where $n$ is the number of samples and $\\mathbf{x}_i$ is the feature vector of the $i$th sample.\n",
        "\n",
        "#### The centered input data is computed as:\n",
        "\n",
        "$$\n",
        "\\mathbf{x}_i' = \\mathbf{x}_i - \\boldsymbol{\\mu}\n",
        "$$\n",
        "\n",
        "where $\\mathbf{X}$ is the input data matrix with shape $(n, p)$, $n$ is the number of samples, and $p$ is the number of features.\n",
        "\n",
        "#### The covariance matrix of the centered input data is computed as:\n",
        "\n",
        "$$\n",
        "\\mathbf{C} = \\frac{1}{n-1}\\sum_{i=1}^{n}(\\mathbf{x}_i' \\cdot \\mathbf{x}_i'^T)\n",
        "$$\n",
        "\n",
        "where $\\mathbf{C}$ is the covariance matrix with shape $(p, p)$.\n",
        "\n",
        "#### The eigenvectors and eigenvalues of the covariance matrix are computed as:\n",
        "\n",
        "$$\n",
        "\\mathbf{C} \\cdot \\mathbf{v}_i = \\lambda_i \\cdot \\mathbf{v}_i\n",
        "$$\n",
        "\n",
        "where $\\mathbf{v}_i$ is the $i$th eigenvector with length $p$, and $\\lambda_i$ is the corresponding eigenvalue.\n",
        "\n",
        "#### Here, we keep only the first `n_components` eigenvectors as the principal components.\n",
        "\n",
        "#### The explained variance ratio for each principal component is computed as:\n",
        "\n",
        "$$\n",
        "\\mathrm{ExplainedVarianceRatio_i} = \\frac{\\lambda_i}{\\sum_{j=1}^{p}\\lambda_j}\n",
        "$$\n",
        "\n",
        "where $\\mathrm{ExplainedVarianceRatio_i}$ is the explained variance ratio for the $i$th principal component.\n",
        "\n",
        "#### The transformed data is computed as:\n",
        "\n",
        "$$\n",
        "\\mathbf{X}_{\\text{transformed}} = \\mathbf{X}_{\\text{centered}} \\cdot \\mathbf{V}\n",
        "$$\n",
        "\n",
        "where $\\mathbf{V}$ is the matrix of principal components with shape $(p, k)$, $\\mathbf{X}_{\\text{centered}}$ is the centered input data matrix with shape $(n, p)$, and $\\mathbf{X}_{\\text{transformed}}$ is the transformed data matrix with shape $(n, k)$."
      ]
    },
    {
      "cell_type": "code",
      "execution_count": 32,
      "metadata": {
        "execution": {
          "iopub.execute_input": "2024-08-29T09:25:54.760641Z",
          "iopub.status.busy": "2024-08-29T09:25:54.759458Z",
          "iopub.status.idle": "2024-08-29T09:25:54.773826Z",
          "shell.execute_reply": "2024-08-29T09:25:54.772749Z",
          "shell.execute_reply.started": "2024-08-29T09:25:54.760587Z"
        },
        "trusted": true,
        "id": "xz2ZXLsjNKlG"
      },
      "outputs": [],
      "source": [
        "## CODE REQUIRED ##\n",
        "class PCA:\n",
        "    \"\"\"\n",
        "    Principal Component Analysis (PCA) class for dimensionality reduction.\n",
        "    \"\"\"\n",
        "\n",
        "    def __init__(self, n_components):\n",
        "        \"\"\"\n",
        "        Constructor method that initializes the PCA object with the number of components to retain.\n",
        "\n",
        "        Args:\n",
        "        - n_components (int): Number of principal components to retain.\n",
        "        \"\"\"\n",
        "        self.n_components = n_components\n",
        "\n",
        "    def fit(self, X):\n",
        "        \"\"\"\n",
        "        Fits the PCA model to the input data and computes the principal components.\n",
        "        (HINT: Use numpy's linalg module to compute eigenvalues and eigenvectors)\n",
        "\n",
        "        Args:\n",
        "        - X (numpy.ndarray): Input data matrix with shape (n_samples, n_features).\n",
        "        \"\"\"\n",
        "        # Compute the mean of the input data along each feature dimension.\n",
        "        ### START CODE HERE ###\n",
        "        mean = np.mean(X)\n",
        "        ### END CODE HERE ###\n",
        "\n",
        "        # Subtract the mean from the input data to center it around zero.\n",
        "        ### START CODE HERE ###\n",
        "        X = X - mean\n",
        "        ### END CODE HERE ###\n",
        "\n",
        "        # Compute the covariance matrix of the centered input data.\n",
        "        ### START CODE HERE ###\n",
        "        cov = np.cov(X, rowvar=False)\n",
        "        ### END CODE HERE ###\n",
        "\n",
        "        # Compute the eigenvectors and eigenvalues of the covariance matrix.\n",
        "        ### START CODE HERE ###\n",
        "        eigenvalues, eigenvectors = np.linalg.eigh(cov)\n",
        "        ### END CODE HERE ###\n",
        "\n",
        "        # Keep only the first n_components eigenvectors as the principal components.\n",
        "        self.components = eigenvectors[:,:self.n_components]\n",
        "\n",
        "        # Compute the total variance of the input data\n",
        "        ### START CODE HERE ###\n",
        "        total_variance = np.sum(eigenvalues)\n",
        "        ### END CODE HERE ###\n",
        "\n",
        "        # Compute the variance explained by each principal component\n",
        "        self.explained_variances = eigenvalues[:self.n_components]\n",
        "\n",
        "        # Compute the explained variance ratio for each principal component\n",
        "        self.explained_variance_ratio_ = self.explained_variances / total_variance\n",
        "\n",
        "    def transform(self, X):\n",
        "        \"\"\"\n",
        "        Transforms the input data by projecting it onto the principal components.\n",
        "\n",
        "        Args:\n",
        "        - X (numpy.ndarray): Input data matrix with shape (n_samples, n_features).\n",
        "\n",
        "        Returns:\n",
        "        - transformed_data (numpy.ndarray): Transformed data matrix with shape (n_samples, n_components).\n",
        "        \"\"\"\n",
        "\n",
        "        ### START CODE HERE ###\n",
        "        transformed_data = np.dot(X, self.components)\n",
        "        ### END CODE HERE ###\n",
        "\n",
        "        return transformed_data\n",
        "\n",
        "    def fit_transform(self, X):\n",
        "        \"\"\"\n",
        "        Fits the PCA model to the input data and computes the principal components then\n",
        "        transforms the input data by projecting it onto the principal components.\n",
        "\n",
        "        Args:\n",
        "        - X (numpy.ndarray): Input data matrix with shape (n_samples, n_features).\n",
        "        \"\"\"\n",
        "        self.fit(X)\n",
        "        transformed_data = self.transform(X)\n",
        "        return transformed_data"
      ]
    },
    {
      "cell_type": "markdown",
      "metadata": {
        "id": "iQzlQK_bNKlG"
      },
      "source": [
        "### 2.3. Executing the PCA Algorithm"
      ]
    },
    {
      "cell_type": "code",
      "execution_count": 33,
      "metadata": {
        "execution": {
          "iopub.execute_input": "2024-08-29T09:25:56.792845Z",
          "iopub.status.busy": "2024-08-29T09:25:56.792075Z",
          "iopub.status.idle": "2024-08-29T09:25:56.797559Z",
          "shell.execute_reply": "2024-08-29T09:25:56.796476Z",
          "shell.execute_reply.started": "2024-08-29T09:25:56.792803Z"
        },
        "trusted": true,
        "id": "gsNk82heNKlG",
        "colab": {
          "base_uri": "https://localhost:8080/"
        },
        "outputId": "7c0820d3-e9e5-4418-d460-599acc657a92"
      },
      "outputs": [
        {
          "output_type": "stream",
          "name": "stdout",
          "text": [
            "[8.25392788e-08 2.12013755e-07]\n"
          ]
        }
      ],
      "source": [
        "# Initialize the PCA class with the number of principal components to retain (in this case, 2).\n",
        "pca = PCA(2)\n",
        "\n",
        "# Fit the PCA model to the input data X.\n",
        "pca.fit(X)\n",
        "\n",
        "# Print the explained variance ratio for each of the selected principal components.\n",
        "# This shows how much variance each principal component explains in relation to the total variance.\n",
        "print(pca.explained_variance_ratio_)"
      ]
    },
    {
      "cell_type": "markdown",
      "metadata": {
        "id": "E9ODWAKdNKlG"
      },
      "source": [
        "### 2.4. Transforming Data"
      ]
    },
    {
      "cell_type": "code",
      "execution_count": 34,
      "metadata": {
        "execution": {
          "iopub.execute_input": "2024-08-29T09:26:08.598819Z",
          "iopub.status.busy": "2024-08-29T09:26:08.598044Z",
          "iopub.status.idle": "2024-08-29T09:26:08.604132Z",
          "shell.execute_reply": "2024-08-29T09:26:08.602996Z",
          "shell.execute_reply.started": "2024-08-29T09:26:08.598777Z"
        },
        "trusted": true,
        "id": "yEUO1J89NKlH",
        "colab": {
          "base_uri": "https://localhost:8080/"
        },
        "outputId": "9b254f1f-dec8-4efe-a236-4d38c68a7e22"
      },
      "outputs": [
        {
          "output_type": "stream",
          "name": "stdout",
          "text": [
            "Shape of transformed X:  (178, 2)\n"
          ]
        }
      ],
      "source": [
        "# Transform the input data X using the previously fitted PCA model.\n",
        "X_transformed = pca.transform(X)\n",
        "\n",
        "# Print the shape of the transformed data X.\n",
        "print(\"Shape of transformed X: \", X_transformed.shape)\n"
      ]
    },
    {
      "cell_type": "markdown",
      "metadata": {
        "id": "CouWBXsuNKlH"
      },
      "source": [
        "### 2.5. Visualizing Data"
      ]
    },
    {
      "cell_type": "code",
      "execution_count": 35,
      "metadata": {
        "execution": {
          "iopub.execute_input": "2024-08-29T09:26:11.272902Z",
          "iopub.status.busy": "2024-08-29T09:26:11.271995Z",
          "iopub.status.idle": "2024-08-29T09:26:11.337618Z",
          "shell.execute_reply": "2024-08-29T09:26:11.336641Z",
          "shell.execute_reply.started": "2024-08-29T09:26:11.272862Z"
        },
        "trusted": true,
        "id": "ckj1PXwANKlH",
        "colab": {
          "base_uri": "https://localhost:8080/",
          "height": 542
        },
        "outputId": "9e0991b4-fbb4-4344-f517-bf4cc25853e9"
      },
      "outputs": [
        {
          "output_type": "display_data",
          "data": {
            "text/html": [
              "<html>\n",
              "<head><meta charset=\"utf-8\" /></head>\n",
              "<body>\n",
              "    <div>            <script src=\"https://cdnjs.cloudflare.com/ajax/libs/mathjax/2.7.5/MathJax.js?config=TeX-AMS-MML_SVG\"></script><script type=\"text/javascript\">if (window.MathJax && window.MathJax.Hub && window.MathJax.Hub.Config) {window.MathJax.Hub.Config({SVG: {font: \"STIX-Web\"}});}</script>                <script type=\"text/javascript\">window.PlotlyConfig = {MathJaxConfig: 'local'};</script>\n",
              "        <script charset=\"utf-8\" src=\"https://cdn.plot.ly/plotly-2.24.1.min.js\"></script>                <div id=\"a6c41f34-8a9f-43d6-a444-9d5bc8d5ba34\" class=\"plotly-graph-div\" style=\"height:525px; width:100%;\"></div>            <script type=\"text/javascript\">                                    window.PLOTLYENV=window.PLOTLYENV || {};                                    if (document.getElementById(\"a6c41f34-8a9f-43d6-a444-9d5bc8d5ba34\")) {                    Plotly.newPlot(                        \"a6c41f34-8a9f-43d6-a444-9d5bc8d5ba34\",                        [{\"hovertemplate\":\"x=%{x}\\u003cbr\\u003ey=%{y}\\u003cbr\\u003ecolor=%{marker.color}\\u003cextra\\u003e\\u003c\\u002fextra\\u003e\",\"legendgroup\":\"\",\"marker\":{\"color\":[1,1,1,1,1,1,1,1,1,1,1,1,1,1,1,1,1,1,1,1,1,1,1,1,1,1,1,1,1,1,1,1,1,1,1,1,1,1,1,1,1,1,1,1,1,1,1,1,1,1,1,1,1,1,1,1,1,1,1,2,2,2,2,2,2,2,2,2,2,2,2,2,2,2,2,2,2,2,2,2,2,2,2,2,2,2,2,2,2,2,2,2,2,2,2,2,2,2,2,2,2,2,2,2,2,2,2,2,2,2,2,2,2,2,2,2,2,2,2,2,2,2,2,2,2,2,2,2,2,2,3,3,3,3,3,3,3,3,3,3,3,3,3,3,3,3,3,3,3,3,3,3,3,3,3,3,3,3,3,3,3,3,3,3,3,3,3,3,3,3,3,3,3,3,3,3,3,3],\"coloraxis\":\"coloraxis\",\"symbol\":\"circle\"},\"mode\":\"markers\",\"name\":\"\",\"orientation\":\"v\",\"showlegend\":false,\"x\":[-0.37467779561108355,-0.30800610839958253,-0.2590051996032963,-0.31075772210477565,-0.30969097237795373,-0.36927750204499843,-0.2914373595027357,-0.33442080282965264,-0.31070987630808233,-0.2698305200908855,-0.247646566593107,-0.23068557050401428,-0.23664895720601126,-0.38347505001353943,-0.28514631336997676,-0.2281198764028672,-0.3186909634783406,-0.3900685156298964,-0.3466470860471478,-0.1944996453767473,-0.33775743396589963,-0.17176043316132333,-0.316293199090191,-0.22111316048771132,-0.2452348539202248,-0.3580442848969271,-0.31830957839224994,-0.27012114072873533,-0.29502614582986386,-0.2694985121939714,-0.2252933791408563,-0.25262325722063167,-0.3845502988822938,-0.47953160123081956,-0.2468009668113183,-0.2815399605630542,-0.2502364496499299,-0.20580780547670255,-0.28588642222342825,-0.2518833309742972,-0.4112958428215153,-0.29368893768692417,-0.22118270350867406,-0.32676979869188244,-0.3716517905248564,-0.3291921879699126,-0.2947040110394949,-0.30807496115868044,-0.2959721572571459,-0.37603659516274346,-0.18397611987811385,-0.16662352971774333,-0.3714061380449361,-0.3433153703804363,-0.3087990383181626,-0.2141782430576479,-0.3313036015582041,-0.2656598924314809,-0.24530200243500877,-0.23969808031257123,-0.4504945220531112,-0.43885661108857554,-0.2861251770767963,-0.13853548375787847,-0.26103986636476173,-0.2478017527721663,-0.3066574848763548,-0.2586611256920268,-0.44609317957724015,-0.2247634259866294,-0.2923307059389025,-0.07845704121757413,-0.2262737392666549,-0.2481404011919049,-0.10194888509849967,-0.25420942873457525,-0.2249341126872712,-0.3686258683933115,-0.3934457914237254,-0.34575825465011706,-0.23610391021211236,-0.22376065495921574,-0.2064547672305275,-0.4698582002217146,-0.16235638411404985,-0.24239768880855833,-0.271589448090093,-0.21891924922070463,-0.3495223781952782,-0.30027387775459097,-0.3567911067321264,-0.343133104708172,-0.4470862485743369,-0.17030839356144944,-0.08630737346982126,-0.3958580537888215,-0.03001907668876081,-0.23772892016400038,-0.2765894064114282,-0.3257321297289129,-0.2820954378290465,-0.2639184662310065,-0.3123604981641176,-0.32037937467753713,-0.3247363911863425,-0.6230610393934123,-0.3329984030193339,-0.4059209534237936,-0.402218401399632,-0.22593150164690118,-0.28652613989181697,-0.23365851233683738,-0.39764093587025706,-0.26557614140974184,-0.3578362059533188,-0.32612879949206014,-0.2891511331577899,-0.3414343552759872,-0.35369359450878257,-0.32639691365466805,-0.32111554468845566,-0.5234611931070644,-0.3241080360157961,-0.29488847876521,-0.18349498626820734,-0.38248111230480875,-0.42022815466795016,-0.43154338737018744,-0.37193262417464973,-0.29992931287593494,-0.16634597279043903,-0.13105504912551577,-0.16640605856410978,-0.049912633006994604,-0.4090296397467027,-0.4779805190479776,-0.2824123240009585,-0.36588997191591643,-0.4023662607892544,-0.31742570811553716,-0.33075657495465705,-0.2515034547978654,-0.27803551554896283,-0.2724422930967184,-0.21572707438910124,-0.3432216438355115,-0.2164329736874047,-0.2780885505220762,-0.2883610849754887,-0.25960135309661364,-0.14627866301445075,-0.1581932898840232,-0.11490494678800271,-0.4489431329448159,-0.4444047825025259,-0.41519768221280673,-0.2925766794968659,-0.4222887126060405,-0.3364561023780647,-0.299334556133681,-0.31270120190072553,-0.2930817307511172,-0.4074977128762147,-0.2814357162584473,-0.25382613006526955,-0.3305172770968542,-0.22520148904914314,-0.21561536051748015,-0.2108858073318776,-0.07629186611594428,-0.25600739832659086,-0.3136260605345175,-0.260398759143923,-0.3216643311062894,-0.251768442016401,-0.3305882573406681,-0.427172439911,-0.3213503608818551],\"xaxis\":\"x\",\"y\":[0.8795511036814769,0.8609070892167604,0.8693007912170779,0.7517455939945074,0.9109806241607282,0.8864845170028873,0.8210240218563263,0.8958720841714407,0.8874922660277259,0.9086334462189439,1.066308909227523,0.9550103858918229,0.9557919538968324,0.9963360270431438,1.0233698889961462,1.1601180260351147,0.9034480807402685,0.9945420349654402,1.1045779684105999,0.8591911874989749,0.9667568231337949,0.9923309001844536,0.8882506411961899,0.8707188672953883,0.8946341455070086,0.9110780523311359,0.69728918795284,0.8220709217171176,1.0377910346886134,0.8725102618265567,0.9658936895791667,0.9475414695835832,1.0270842791655097,1.0857320832462618,0.8758526224081123,0.8977012414919867,0.8606411750551569,0.8956108804099339,0.9639550872838869,0.8551670344794455,0.8614396747126614,0.8899823092745811,0.6572940063865834,0.8400294003684697,0.7722760385084528,0.8810167406942019,0.9647781233009746,0.787562766364095,0.9629023136422097,1.1086188016004532,1.0156845510636046,1.0065776028507258,0.8830885969876784,0.9808142421835464,0.7963427709730435,0.8605684338884925,0.840765245358828,0.8911242036282002,0.7009110104958212,0.9156821125372999,1.119165406741947,1.0237675708974223,1.1076492682285848,1.0602063578842358,1.2882063003757156,0.9970780617450185,1.0147178903274314,1.062894103299477,0.8416719879437514,1.1454345907461165,0.771201243028713,1.1237314217526269,0.8823820264643754,1.1124554475561614,0.7640823458034618,1.1928439517028242,1.1004252137045958,0.9387681244165269,0.8910178243999786,1.1651722337704216,1.1966780103622254,1.0089791573045144,1.07996965490129,0.9718709463840589,0.524735713647812,1.0149339609557282,1.176009893266785,1.206279885877198,0.8781048744600652,0.8665529014805908,0.9358270950034574,0.9688701110527307,0.8467424922151869,1.0321246676642242,1.0384906678970138,0.9479045044735236,0.780885467084874,1.0509131204694395,0.8458086763511579,1.3027797384061535,1.1968863604747937,0.8901699942586941,0.7017558780398835,0.8328770497980108,0.9238022768773428,0.8500981958486991,0.8930270919027697,0.7839270999450145,0.7407659622388517,0.6700006544021977,0.7618393260765619,0.7746152220248517,1.1476143753161883,0.8980055729206811,0.773630501101015,1.5423117072837824,0.8028143165647698,0.9093700271838062,0.7590290081052209,0.8625282414082824,0.6810996795256367,0.8306189048546889,0.9212135129364312,0.8439977162978067,0.7201416384374537,0.7618628158326116,0.5715998024934443,0.8684478549014729,0.723131017640869,0.8152727464862513,0.6335682143718149,0.796308218968415,0.7115742396933972,0.8536373967424586,0.7544996175454924,0.9166849642614237,0.8827520234937374,1.1033692351924087,1.0037839958429635,0.9818041781633933,0.808316591170004,0.7644628745990094,0.9418299928968393,1.0865024480125427,0.9374110816562639,0.6818352558971815,0.8126707595898996,0.862103035062559,0.8117367910613604,0.9106507142282118,0.7948854203477904,0.7950369200109562,0.6731050670503218,0.9420021451878346,0.7308073108007194,0.9938258250346984,0.9138522061972636,0.8933090484194748,0.8997704271055624,0.8513701268324143,0.8503737789358625,1.0791779190169941,1.0198055250742575,0.7925365062389143,0.9909309954279614,1.0676878172201194,1.2201689871907144,1.0804136571941054,0.918969230979924,0.964471127069097,0.7956985163470307,0.8936951536471358,0.8602713686813852,1.0164534155467877,0.9307243061913979,1.014147168348411,0.8660093556399985,0.9500188426660952],\"yaxis\":\"y\",\"type\":\"scatter\"}],                        {\"template\":{\"data\":{\"histogram2dcontour\":[{\"type\":\"histogram2dcontour\",\"colorbar\":{\"outlinewidth\":0,\"ticks\":\"\"},\"colorscale\":[[0.0,\"#0d0887\"],[0.1111111111111111,\"#46039f\"],[0.2222222222222222,\"#7201a8\"],[0.3333333333333333,\"#9c179e\"],[0.4444444444444444,\"#bd3786\"],[0.5555555555555556,\"#d8576b\"],[0.6666666666666666,\"#ed7953\"],[0.7777777777777778,\"#fb9f3a\"],[0.8888888888888888,\"#fdca26\"],[1.0,\"#f0f921\"]]}],\"choropleth\":[{\"type\":\"choropleth\",\"colorbar\":{\"outlinewidth\":0,\"ticks\":\"\"}}],\"histogram2d\":[{\"type\":\"histogram2d\",\"colorbar\":{\"outlinewidth\":0,\"ticks\":\"\"},\"colorscale\":[[0.0,\"#0d0887\"],[0.1111111111111111,\"#46039f\"],[0.2222222222222222,\"#7201a8\"],[0.3333333333333333,\"#9c179e\"],[0.4444444444444444,\"#bd3786\"],[0.5555555555555556,\"#d8576b\"],[0.6666666666666666,\"#ed7953\"],[0.7777777777777778,\"#fb9f3a\"],[0.8888888888888888,\"#fdca26\"],[1.0,\"#f0f921\"]]}],\"heatmap\":[{\"type\":\"heatmap\",\"colorbar\":{\"outlinewidth\":0,\"ticks\":\"\"},\"colorscale\":[[0.0,\"#0d0887\"],[0.1111111111111111,\"#46039f\"],[0.2222222222222222,\"#7201a8\"],[0.3333333333333333,\"#9c179e\"],[0.4444444444444444,\"#bd3786\"],[0.5555555555555556,\"#d8576b\"],[0.6666666666666666,\"#ed7953\"],[0.7777777777777778,\"#fb9f3a\"],[0.8888888888888888,\"#fdca26\"],[1.0,\"#f0f921\"]]}],\"heatmapgl\":[{\"type\":\"heatmapgl\",\"colorbar\":{\"outlinewidth\":0,\"ticks\":\"\"},\"colorscale\":[[0.0,\"#0d0887\"],[0.1111111111111111,\"#46039f\"],[0.2222222222222222,\"#7201a8\"],[0.3333333333333333,\"#9c179e\"],[0.4444444444444444,\"#bd3786\"],[0.5555555555555556,\"#d8576b\"],[0.6666666666666666,\"#ed7953\"],[0.7777777777777778,\"#fb9f3a\"],[0.8888888888888888,\"#fdca26\"],[1.0,\"#f0f921\"]]}],\"contourcarpet\":[{\"type\":\"contourcarpet\",\"colorbar\":{\"outlinewidth\":0,\"ticks\":\"\"}}],\"contour\":[{\"type\":\"contour\",\"colorbar\":{\"outlinewidth\":0,\"ticks\":\"\"},\"colorscale\":[[0.0,\"#0d0887\"],[0.1111111111111111,\"#46039f\"],[0.2222222222222222,\"#7201a8\"],[0.3333333333333333,\"#9c179e\"],[0.4444444444444444,\"#bd3786\"],[0.5555555555555556,\"#d8576b\"],[0.6666666666666666,\"#ed7953\"],[0.7777777777777778,\"#fb9f3a\"],[0.8888888888888888,\"#fdca26\"],[1.0,\"#f0f921\"]]}],\"surface\":[{\"type\":\"surface\",\"colorbar\":{\"outlinewidth\":0,\"ticks\":\"\"},\"colorscale\":[[0.0,\"#0d0887\"],[0.1111111111111111,\"#46039f\"],[0.2222222222222222,\"#7201a8\"],[0.3333333333333333,\"#9c179e\"],[0.4444444444444444,\"#bd3786\"],[0.5555555555555556,\"#d8576b\"],[0.6666666666666666,\"#ed7953\"],[0.7777777777777778,\"#fb9f3a\"],[0.8888888888888888,\"#fdca26\"],[1.0,\"#f0f921\"]]}],\"mesh3d\":[{\"type\":\"mesh3d\",\"colorbar\":{\"outlinewidth\":0,\"ticks\":\"\"}}],\"scatter\":[{\"fillpattern\":{\"fillmode\":\"overlay\",\"size\":10,\"solidity\":0.2},\"type\":\"scatter\"}],\"parcoords\":[{\"type\":\"parcoords\",\"line\":{\"colorbar\":{\"outlinewidth\":0,\"ticks\":\"\"}}}],\"scatterpolargl\":[{\"type\":\"scatterpolargl\",\"marker\":{\"colorbar\":{\"outlinewidth\":0,\"ticks\":\"\"}}}],\"bar\":[{\"error_x\":{\"color\":\"#2a3f5f\"},\"error_y\":{\"color\":\"#2a3f5f\"},\"marker\":{\"line\":{\"color\":\"#E5ECF6\",\"width\":0.5},\"pattern\":{\"fillmode\":\"overlay\",\"size\":10,\"solidity\":0.2}},\"type\":\"bar\"}],\"scattergeo\":[{\"type\":\"scattergeo\",\"marker\":{\"colorbar\":{\"outlinewidth\":0,\"ticks\":\"\"}}}],\"scatterpolar\":[{\"type\":\"scatterpolar\",\"marker\":{\"colorbar\":{\"outlinewidth\":0,\"ticks\":\"\"}}}],\"histogram\":[{\"marker\":{\"pattern\":{\"fillmode\":\"overlay\",\"size\":10,\"solidity\":0.2}},\"type\":\"histogram\"}],\"scattergl\":[{\"type\":\"scattergl\",\"marker\":{\"colorbar\":{\"outlinewidth\":0,\"ticks\":\"\"}}}],\"scatter3d\":[{\"type\":\"scatter3d\",\"line\":{\"colorbar\":{\"outlinewidth\":0,\"ticks\":\"\"}},\"marker\":{\"colorbar\":{\"outlinewidth\":0,\"ticks\":\"\"}}}],\"scattermapbox\":[{\"type\":\"scattermapbox\",\"marker\":{\"colorbar\":{\"outlinewidth\":0,\"ticks\":\"\"}}}],\"scatterternary\":[{\"type\":\"scatterternary\",\"marker\":{\"colorbar\":{\"outlinewidth\":0,\"ticks\":\"\"}}}],\"scattercarpet\":[{\"type\":\"scattercarpet\",\"marker\":{\"colorbar\":{\"outlinewidth\":0,\"ticks\":\"\"}}}],\"carpet\":[{\"aaxis\":{\"endlinecolor\":\"#2a3f5f\",\"gridcolor\":\"white\",\"linecolor\":\"white\",\"minorgridcolor\":\"white\",\"startlinecolor\":\"#2a3f5f\"},\"baxis\":{\"endlinecolor\":\"#2a3f5f\",\"gridcolor\":\"white\",\"linecolor\":\"white\",\"minorgridcolor\":\"white\",\"startlinecolor\":\"#2a3f5f\"},\"type\":\"carpet\"}],\"table\":[{\"cells\":{\"fill\":{\"color\":\"#EBF0F8\"},\"line\":{\"color\":\"white\"}},\"header\":{\"fill\":{\"color\":\"#C8D4E3\"},\"line\":{\"color\":\"white\"}},\"type\":\"table\"}],\"barpolar\":[{\"marker\":{\"line\":{\"color\":\"#E5ECF6\",\"width\":0.5},\"pattern\":{\"fillmode\":\"overlay\",\"size\":10,\"solidity\":0.2}},\"type\":\"barpolar\"}],\"pie\":[{\"automargin\":true,\"type\":\"pie\"}]},\"layout\":{\"autotypenumbers\":\"strict\",\"colorway\":[\"#636efa\",\"#EF553B\",\"#00cc96\",\"#ab63fa\",\"#FFA15A\",\"#19d3f3\",\"#FF6692\",\"#B6E880\",\"#FF97FF\",\"#FECB52\"],\"font\":{\"color\":\"#2a3f5f\"},\"hovermode\":\"closest\",\"hoverlabel\":{\"align\":\"left\"},\"paper_bgcolor\":\"white\",\"plot_bgcolor\":\"#E5ECF6\",\"polar\":{\"bgcolor\":\"#E5ECF6\",\"angularaxis\":{\"gridcolor\":\"white\",\"linecolor\":\"white\",\"ticks\":\"\"},\"radialaxis\":{\"gridcolor\":\"white\",\"linecolor\":\"white\",\"ticks\":\"\"}},\"ternary\":{\"bgcolor\":\"#E5ECF6\",\"aaxis\":{\"gridcolor\":\"white\",\"linecolor\":\"white\",\"ticks\":\"\"},\"baxis\":{\"gridcolor\":\"white\",\"linecolor\":\"white\",\"ticks\":\"\"},\"caxis\":{\"gridcolor\":\"white\",\"linecolor\":\"white\",\"ticks\":\"\"}},\"coloraxis\":{\"colorbar\":{\"outlinewidth\":0,\"ticks\":\"\"}},\"colorscale\":{\"sequential\":[[0.0,\"#0d0887\"],[0.1111111111111111,\"#46039f\"],[0.2222222222222222,\"#7201a8\"],[0.3333333333333333,\"#9c179e\"],[0.4444444444444444,\"#bd3786\"],[0.5555555555555556,\"#d8576b\"],[0.6666666666666666,\"#ed7953\"],[0.7777777777777778,\"#fb9f3a\"],[0.8888888888888888,\"#fdca26\"],[1.0,\"#f0f921\"]],\"sequentialminus\":[[0.0,\"#0d0887\"],[0.1111111111111111,\"#46039f\"],[0.2222222222222222,\"#7201a8\"],[0.3333333333333333,\"#9c179e\"],[0.4444444444444444,\"#bd3786\"],[0.5555555555555556,\"#d8576b\"],[0.6666666666666666,\"#ed7953\"],[0.7777777777777778,\"#fb9f3a\"],[0.8888888888888888,\"#fdca26\"],[1.0,\"#f0f921\"]],\"diverging\":[[0,\"#8e0152\"],[0.1,\"#c51b7d\"],[0.2,\"#de77ae\"],[0.3,\"#f1b6da\"],[0.4,\"#fde0ef\"],[0.5,\"#f7f7f7\"],[0.6,\"#e6f5d0\"],[0.7,\"#b8e186\"],[0.8,\"#7fbc41\"],[0.9,\"#4d9221\"],[1,\"#276419\"]]},\"xaxis\":{\"gridcolor\":\"white\",\"linecolor\":\"white\",\"ticks\":\"\",\"title\":{\"standoff\":15},\"zerolinecolor\":\"white\",\"automargin\":true,\"zerolinewidth\":2},\"yaxis\":{\"gridcolor\":\"white\",\"linecolor\":\"white\",\"ticks\":\"\",\"title\":{\"standoff\":15},\"zerolinecolor\":\"white\",\"automargin\":true,\"zerolinewidth\":2},\"scene\":{\"xaxis\":{\"backgroundcolor\":\"#E5ECF6\",\"gridcolor\":\"white\",\"linecolor\":\"white\",\"showbackground\":true,\"ticks\":\"\",\"zerolinecolor\":\"white\",\"gridwidth\":2},\"yaxis\":{\"backgroundcolor\":\"#E5ECF6\",\"gridcolor\":\"white\",\"linecolor\":\"white\",\"showbackground\":true,\"ticks\":\"\",\"zerolinecolor\":\"white\",\"gridwidth\":2},\"zaxis\":{\"backgroundcolor\":\"#E5ECF6\",\"gridcolor\":\"white\",\"linecolor\":\"white\",\"showbackground\":true,\"ticks\":\"\",\"zerolinecolor\":\"white\",\"gridwidth\":2}},\"shapedefaults\":{\"line\":{\"color\":\"#2a3f5f\"}},\"annotationdefaults\":{\"arrowcolor\":\"#2a3f5f\",\"arrowhead\":0,\"arrowwidth\":1},\"geo\":{\"bgcolor\":\"white\",\"landcolor\":\"#E5ECF6\",\"subunitcolor\":\"white\",\"showland\":true,\"showlakes\":true,\"lakecolor\":\"white\"},\"title\":{\"x\":0.05},\"mapbox\":{\"style\":\"light\"}}},\"xaxis\":{\"anchor\":\"y\",\"domain\":[0.0,1.0],\"title\":{\"text\":\"PC1\"}},\"yaxis\":{\"anchor\":\"x\",\"domain\":[0.0,1.0],\"title\":{\"text\":\"PC2\"}},\"coloraxis\":{\"colorbar\":{\"title\":{\"text\":\"color\"}},\"colorscale\":[[0.0,\"#0d0887\"],[0.1111111111111111,\"#46039f\"],[0.2222222222222222,\"#7201a8\"],[0.3333333333333333,\"#9c179e\"],[0.4444444444444444,\"#bd3786\"],[0.5555555555555556,\"#d8576b\"],[0.6666666666666666,\"#ed7953\"],[0.7777777777777778,\"#fb9f3a\"],[0.8888888888888888,\"#fdca26\"],[1.0,\"#f0f921\"]]},\"legend\":{\"tracegroupgap\":0},\"margin\":{\"t\":60},\"title\":{\"text\":\"PCA transformed data\"}},                        {\"responsive\": true}                    ).then(function(){\n",
              "                            \n",
              "var gd = document.getElementById('a6c41f34-8a9f-43d6-a444-9d5bc8d5ba34');\n",
              "var x = new MutationObserver(function (mutations, observer) {{\n",
              "        var display = window.getComputedStyle(gd).display;\n",
              "        if (!display || display === 'none') {{\n",
              "            console.log([gd, 'removed!']);\n",
              "            Plotly.purge(gd);\n",
              "            observer.disconnect();\n",
              "        }}\n",
              "}});\n",
              "\n",
              "// Listen for the removal of the full notebook cells\n",
              "var notebookContainer = gd.closest('#notebook-container');\n",
              "if (notebookContainer) {{\n",
              "    x.observe(notebookContainer, {childList: true});\n",
              "}}\n",
              "\n",
              "// Listen for the clearing of the current output cell\n",
              "var outputEl = gd.closest('.output');\n",
              "if (outputEl) {{\n",
              "    x.observe(outputEl, {childList: true});\n",
              "}}\n",
              "\n",
              "                        })                };                            </script>        </div>\n",
              "</body>\n",
              "</html>"
            ]
          },
          "metadata": {}
        }
      ],
      "source": [
        "# Create a scatter plot using Plotly to visualize the PCA-transformed data.\n",
        "fig = px.scatter(x=X_transformed[:,0], y=X_transformed[:,1], color=y)\n",
        "fig.update_layout(\n",
        "    title=\"PCA transformed data\",\n",
        "    xaxis_title=\"PC1\",\n",
        "    yaxis_title=\"PC2\"\n",
        ")\n",
        "fig.show()"
      ]
    },
    {
      "cell_type": "code",
      "execution_count": 35,
      "metadata": {
        "id": "pmx3Z6G2NKlH"
      },
      "outputs": [],
      "source": []
    }
  ],
  "metadata": {
    "kaggle": {
      "accelerator": "none",
      "dataSources": [
        {
          "datasetId": 1829286,
          "sourceId": 2984728,
          "sourceType": "datasetVersion"
        }
      ],
      "dockerImageVersionId": 30407,
      "isGpuEnabled": false,
      "isInternetEnabled": true,
      "language": "python",
      "sourceType": "notebook"
    },
    "kernelspec": {
      "display_name": "Python 3",
      "language": "python",
      "name": "python3"
    },
    "language_info": {
      "codemirror_mode": {
        "name": "ipython",
        "version": 3
      },
      "file_extension": ".py",
      "mimetype": "text/x-python",
      "name": "python",
      "nbconvert_exporter": "python",
      "pygments_lexer": "ipython3",
      "version": "3.12.5"
    },
    "colab": {
      "provenance": []
    }
  },
  "nbformat": 4,
  "nbformat_minor": 0
}